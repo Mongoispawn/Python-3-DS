{
 "cells": [
  {
   "cell_type": "markdown",
   "metadata": {},
   "source": [
    "** Author: Lauren Washington **"
   ]
  },
  {
   "cell_type": "code",
   "execution_count": 1,
   "metadata": {},
   "outputs": [
    {
     "name": "stdout",
     "output_type": "stream",
     "text": [
      "Hi, my name is Lauren Washington. I am 29 years old.\n",
      "Hi, my name is Lauren Washington. I am 29 years old.\n"
     ]
    }
   ],
   "source": [
    "#Working with Variables\n",
    "#remove quotes around 29 and see what happens. why?\n",
    "\n",
    "first_name = \"Lauren\"\n",
    "last_name = 'Washington'\n",
    "age = \"29\"\n",
    "\n",
    "print(\"Hi, my name is \" + first_name +\" \" \n",
    "      + last_name + \". I am \" + age + \" years old.\" )\n",
    "\n",
    "format_example = \"Hi, my name is {} {}. I am {} years old.\"\n",
    "print(format_example.format(first_name, last_name, age))\n"
   ]
  },
  {
   "cell_type": "code",
   "execution_count": 2,
   "metadata": {},
   "outputs": [
    {
     "name": "stdout",
     "output_type": "stream",
     "text": [
      "<class 'str'>\n",
      "<class 'int'>\n",
      "False\n",
      "True\n"
     ]
    },
    {
     "data": {
      "text/plain": [
       "True"
      ]
     },
     "execution_count": 2,
     "metadata": {},
     "output_type": "execute_result"
    }
   ],
   "source": [
    "age_data_type = type(age)\n",
    "print(age_data_type)\n",
    "\n",
    "#assign new variable to age\n",
    "age = 30 \n",
    "age_data_type = type(age)\n",
    "print(age_data_type)\n",
    "\n",
    "#doesn't print because there is no print statement\n",
    "age == 30\n",
    "\n",
    "print(age == \"30\")\n",
    "print(age == 30)\n",
    "\n",
    "#prints because it's on the last line\n",
    "age == 30"
   ]
  },
  {
   "cell_type": "code",
   "execution_count": 3,
   "metadata": {},
   "outputs": [
    {
     "name": "stdout",
     "output_type": "stream",
     "text": [
      "True\n"
     ]
    }
   ],
   "source": [
    "print(first_name.isalpha())\n",
    "\n",
    "#will receive an error message because an integer is not a decimal\n",
    "#print(age.isdecimal())"
   ]
  },
  {
   "cell_type": "code",
   "execution_count": 4,
   "metadata": {},
   "outputs": [
    {
     "name": "stdout",
     "output_type": "stream",
     "text": [
      "L\n",
      "Lauren\n"
     ]
    }
   ],
   "source": [
    "#index starts at 0 in python which may be confusing for R users \n",
    "first_initial = first_name[0]\n",
    "print(first_initial)\n",
    "\n",
    "#find the length of the variable \n",
    "(len(first_name))\n",
    "\n",
    "#index from 0 to len(first_name)\n",
    "indexed_first_name = first_name[0:6]\n",
    "print(indexed_first_name)"
   ]
  },
  {
   "cell_type": "code",
   "execution_count": 5,
   "metadata": {},
   "outputs": [
    {
     "data": {
      "text/plain": [
       "'WELCOME'"
      ]
     },
     "execution_count": 5,
     "metadata": {},
     "output_type": "execute_result"
    }
   ],
   "source": [
    "#extract the word 'Welcome'\n",
    "'Welcome to the world of recruitment data extraction.'[0:7].upper()"
   ]
  },
  {
   "cell_type": "code",
   "execution_count": 42,
   "metadata": {},
   "outputs": [
    {
     "name": "stdout",
     "output_type": "stream",
     "text": [
      "8\n",
      "to the world of recruitment data extraction.\n"
     ]
    },
    {
     "data": {
      "text/plain": [
       "'to the world of recruitment data extraction'"
      ]
     },
     "execution_count": 42,
     "metadata": {},
     "output_type": "execute_result"
    }
   ],
   "source": [
    "#run as is then uncomment .index('on') line and print 49:51\n",
    "#how does this differ from find?\n",
    "print('Welcome to the world of recruitment data extraction.'.find('t'))\n",
    "#print('Welcome to the world of recruitment data extraction.'.index('on'))\n",
    "print('Welcome to the world of recruitment data extraction.'[8:])\n",
    "#print('Welcome to the world of recruitment data extraction.'[49:51])\n",
    "#notice quotes with lack of print statement\n",
    "'Welcome to the world of recruitment data extraction.'[-44:-1]"
   ]
  },
  {
   "cell_type": "code",
   "execution_count": 9,
   "metadata": {},
   "outputs": [
    {
     "name": "stdout",
     "output_type": "stream",
     "text": [
      "(555)-555-5555\n"
     ]
    }
   ],
   "source": [
    "random_strings = ['(555)', '555', '5555']\n",
    "print('-'.join(random_strings))"
   ]
  },
  {
   "cell_type": "code",
   "execution_count": 10,
   "metadata": {},
   "outputs": [
    {
     "name": "stdout",
     "output_type": "stream",
     "text": [
      "['Spelman College', 'Atlanta Metropolitan College', 'Columbia University', 'Bootcamp']\n"
     ]
    }
   ],
   "source": [
    "#create a list of schools\n",
    "list_of_schools = ['Spelman College', 'Atlanta Metropolitan College', 'Columbia University', 'Bootcamp']\n",
    "print(list_of_schools)"
   ]
  },
  {
   "cell_type": "code",
   "execution_count": 11,
   "metadata": {},
   "outputs": [
    {
     "name": "stdout",
     "output_type": "stream",
     "text": [
      "['Spelman College', 'Atlanta, GA', 'Undergrad', 'BA', 'Econ', 2005, 2009, 3.6]\n",
      "<class 'list'>\n"
     ]
    }
   ],
   "source": [
    "#also a valid list\n",
    "undergrad_school_info = []\n",
    "undergrad_school_info = ['Spelman College','Atlanta, GA', 'Undergrad', 'BA', 'Econ', 2005, 2009, 3.6]\n",
    "print(undergrad_school_info)\n",
    "print(type(undergrad_school_info))"
   ]
  },
  {
   "cell_type": "code",
   "execution_count": 12,
   "metadata": {},
   "outputs": [
    {
     "data": {
      "text/plain": [
       "['C', 'o', 'l', 'u', 'm', 'b', 'i', 'a']"
      ]
     },
     "execution_count": 12,
     "metadata": {},
     "output_type": "execute_result"
    }
   ],
   "source": [
    "list(\"Columbia\")"
   ]
  },
  {
   "cell_type": "code",
   "execution_count": 13,
   "metadata": {},
   "outputs": [
    {
     "data": {
      "text/plain": [
       "[0, 1, 2, 3, 4]"
      ]
     },
     "execution_count": 13,
     "metadata": {},
     "output_type": "execute_result"
    }
   ],
   "source": [
    "#list(range(5.0))\n",
    "list(range(5))"
   ]
  },
  {
   "cell_type": "code",
   "execution_count": 14,
   "metadata": {},
   "outputs": [
    {
     "name": "stdout",
     "output_type": "stream",
     "text": [
      "['Columbia University: GSAS', 'New York City, New York', 'Grad', 'MA', 'Quantitative Methods in the Social Sciences', 2011, 2012]\n"
     ]
    }
   ],
   "source": [
    "#run as is then uncomment second line and re-run. What happened?\n",
    "grad_school_info = ['Columbia University: GSAS', \"New York City, New York\", 'Grad', 'MA', 'Quantitative Methods in the Social Sciences', 2011, 2012]\n",
    "#grad_school_info.append(3.4)\n",
    "print(grad_school_info)"
   ]
  },
  {
   "cell_type": "code",
   "execution_count": 15,
   "metadata": {},
   "outputs": [
    {
     "data": {
      "text/plain": [
       "'Post-Bac Math/Stats'"
      ]
     },
     "execution_count": 15,
     "metadata": {},
     "output_type": "execute_result"
    }
   ],
   "source": [
    "#create a dictionary with the job candidate's school \n",
    "#as the key and degree/certification/etc as the value\n",
    "\n",
    "lauren_education = {\n",
    "    \"Spelman College\": \"Economics\",\n",
    "    \"Atlanta Metropolitan College\": \"Post-Bac Math/Stats\",\n",
    "    \"Columbia University\": \"Quantitative Methods in the Social Sciences\",\n",
    "    \"Bootcamp\": \"Data Science Certificate\"\n",
    "}\n",
    "\n",
    "#What did Lauren study at Atlanta Metropolitan College?\n",
    "lauren_education[\"Atlanta Metropolitan College\"]"
   ]
  },
  {
   "cell_type": "code",
   "execution_count": 16,
   "metadata": {
    "collapsed": true
   },
   "outputs": [],
   "source": [
    "#job candidate's url\n",
    "linkedin_url = \"https://www.linkedin.com/in/lauren-washington-0978ba8/\""
   ]
  },
  {
   "cell_type": "code",
   "execution_count": 17,
   "metadata": {},
   "outputs": [
    {
     "data": {
      "text/plain": [
       "['https:', 'www.linkedin.com/in/lauren-washington-0978ba8/']"
      ]
     },
     "execution_count": 17,
     "metadata": {},
     "output_type": "execute_result"
    }
   ],
   "source": [
    "#split url removes splitting item and separates the original data \n",
    "#into segments \n",
    "linkedin_url.split('//')"
   ]
  },
  {
   "cell_type": "code",
   "execution_count": 18,
   "metadata": {},
   "outputs": [
    {
     "name": "stdout",
     "output_type": "stream",
     "text": [
      "Let's interview him/her for our new Data Scientist position!\n"
     ]
    }
   ],
   "source": [
    "#basic if statement\n",
    "if lauren_education[\"Bootcamp\"] == \"Data Science Certificate\":\n",
    "    print(\"Let's interview him/her for our new Data Scientist position!\")"
   ]
  },
  {
   "cell_type": "code",
   "execution_count": 19,
   "metadata": {
    "collapsed": true
   },
   "outputs": [],
   "source": [
    "#define a function which examines how many key-value pairs\n",
    "#are in the job candidate's education dictionary\n",
    "def num_education(dict_obj):\n",
    "    print(len(lauren_education))"
   ]
  },
  {
   "cell_type": "code",
   "execution_count": 20,
   "metadata": {},
   "outputs": [
    {
     "name": "stdout",
     "output_type": "stream",
     "text": [
      "4\n"
     ]
    }
   ],
   "source": [
    "#use num_education function\n",
    "num_education(lauren_education)"
   ]
  },
  {
   "cell_type": "code",
   "execution_count": 21,
   "metadata": {
    "collapsed": true
   },
   "outputs": [],
   "source": [
    "#create function to print out high-level information about the candidate\n",
    "\n",
    "def prettify_education(dict_obj, linkedin):\n",
    "    how_many_education = ''' \n",
    "    Result: \\n\n",
    "    \\tThis candidate has {} degrees/certifications \n",
    "    \\tin their education dictionary.'''\n",
    "    to_confirm = '''\n",
    "    \\tTo confirm, visit this URL: \\n\n",
    "    \\t\\t{}'''\n",
    "    num = len(dict_obj)\n",
    "    print(how_many_education.format(num))\n",
    "    print(to_confirm.format(linkedin))\n",
    "    "
   ]
  },
  {
   "cell_type": "code",
   "execution_count": 22,
   "metadata": {},
   "outputs": [
    {
     "name": "stdout",
     "output_type": "stream",
     "text": [
      " \n",
      "    Result: \n",
      "\n",
      "    \tThis candidate has 4 degrees/certifications \n",
      "    \tin their education dictionary.\n",
      "\n",
      "    \tTo confirm, visit this URL: \n",
      "\n",
      "    \t\thttps://www.linkedin.com/in/lauren-washington-0978ba8/\n"
     ]
    }
   ],
   "source": [
    "#make the results readable \n",
    "prettify_education(lauren_education, linkedin_url)"
   ]
  },
  {
   "cell_type": "code",
   "execution_count": 23,
   "metadata": {},
   "outputs": [
    {
     "name": "stdout",
     "output_type": "stream",
     "text": [
      " \n",
      "    Result: \n",
      "\n",
      "    \tThis candidate has 4 degrees/certifications \n",
      "    \tin their education dictionary.\n",
      "\n",
      "    \tTo confirm, visit this URL: \n",
      "\n",
      "    \t\thttps://www.linkedin.com/in/lauren-washington-0978ba8/\n"
     ]
    }
   ],
   "source": [
    "prettify_education(lauren_education, linkedin_url)"
   ]
  },
  {
   "cell_type": "code",
   "execution_count": 24,
   "metadata": {},
   "outputs": [
    {
     "name": "stdout",
     "output_type": "stream",
     "text": [
      "30\n"
     ]
    }
   ],
   "source": [
    "age += 1\n",
    "print(age)"
   ]
  },
  {
   "cell_type": "code",
   "execution_count": 25,
   "metadata": {
    "collapsed": true
   },
   "outputs": [],
   "source": [
    "#write a formula to screen candidates for mobile developer positions\n",
    "def screen_candidate(dict_obj):\n",
    "    if dict_obj[\"Bootcamp\"] == \"Mobile Development\":\n",
    "        print(\"Let's interview him/her for our new Front-End Web Dev position!\")\n",
    "    else:\n",
    "        print(\"He/She seems talented, but not for this position. Happy recruiting!\")"
   ]
  },
  {
   "cell_type": "code",
   "execution_count": 26,
   "metadata": {},
   "outputs": [
    {
     "name": "stdout",
     "output_type": "stream",
     "text": [
      "He/She seems talented, but not for this position. Happy recruiting!\n"
     ]
    }
   ],
   "source": [
    "#not a good candidate for mobile development\n",
    "screen_candidate(lauren_education)"
   ]
  },
  {
   "cell_type": "code",
   "execution_count": 27,
   "metadata": {
    "collapsed": true
   },
   "outputs": [],
   "source": [
    "#write a formula to screen candidates for mobile developer positions\n",
    "#or pass to different teams\n",
    "#Note: Pass to the Data Science Recruitment Team. is not indented. \n",
    "#What happens when you indent it?\n",
    "def elif_screen_candidate(dict_obj):\n",
    "    if dict_obj[\"Bootcamp\"] == \"Mobile Development Certificate\":\n",
    "        print(\"Let's interview him/her for our new Front-End Web Dev position!\")\n",
    "    elif dict_obj[\"Bootcamp\"] == \"Data Science Certificate\" :\n",
    "        print('''He/She seems talented, but not for this position. \n",
    "Pass to the Data Science Recruitment Team.''')\n",
    "    else:\n",
    "        print(\"He/She seems talented, but not for this position. Happy recruiting!\")"
   ]
  },
  {
   "cell_type": "code",
   "execution_count": 28,
   "metadata": {},
   "outputs": [
    {
     "name": "stdout",
     "output_type": "stream",
     "text": [
      "He/She seems talented, but not for this position. \n",
      "Pass to the Data Science Recruitment Team.\n"
     ]
    }
   ],
   "source": [
    "#pass to a different team\n",
    "elif_screen_candidate(lauren_education)"
   ]
  },
  {
   "cell_type": "code",
   "execution_count": 29,
   "metadata": {
    "collapsed": true
   },
   "outputs": [],
   "source": [
    "#wrong data\n",
    "def dictionary_detection(dict_obj):\n",
    "    try:\n",
    "        dict_obj.fromkeys()\n",
    "        print(\"Thanks for uploading your dictionary!\")\n",
    "    except AttributeError:\n",
    "        print(\"Not a dictionary. Please upload a dictionary.\")"
   ]
  },
  {
   "cell_type": "code",
   "execution_count": 30,
   "metadata": {},
   "outputs": [
    {
     "name": "stdout",
     "output_type": "stream",
     "text": [
      "Not a dictionary. Please upload a dictionary.\n"
     ]
    }
   ],
   "source": [
    "dictionary_detection(list_of_schools)"
   ]
  },
  {
   "cell_type": "code",
   "execution_count": 31,
   "metadata": {},
   "outputs": [
    {
     "name": "stdout",
     "output_type": "stream",
     "text": [
      "['__class__', '__contains__', '__delattr__', '__delitem__', '__dir__', '__doc__', '__eq__', '__format__', '__ge__', '__getattribute__', '__getitem__', '__gt__', '__hash__', '__init__', '__iter__', '__le__', '__len__', '__lt__', '__ne__', '__new__', '__reduce__', '__reduce_ex__', '__repr__', '__setattr__', '__setitem__', '__sizeof__', '__str__', '__subclasshook__', 'clear', 'copy', 'fromkeys', 'get', 'items', 'keys', 'pop', 'popitem', 'setdefault', 'update', 'values']\n",
      "<built-in method fromkeys of type object at 0x1001cbc00>\n"
     ]
    }
   ],
   "source": [
    "print(dir(lauren_education))\n",
    "print(lauren_education.fromkeys)"
   ]
  },
  {
   "cell_type": "code",
   "execution_count": 32,
   "metadata": {},
   "outputs": [
    {
     "name": "stdout",
     "output_type": "stream",
     "text": [
      "Remember to say hello to James at <insert email>, before your first 1:1.\n",
      "Remember to say hello to Jon at <insert email>, before your first 1:1.\n",
      "Remember to say hello to Martin at <insert email>, before your first 1:1.\n"
     ]
    }
   ],
   "source": [
    "#who are Lauren's Thinkful mentees?\n",
    "#friendly reminder for intro email\n",
    "mentees_contact = [\"James at <insert email>\", \"Jon at <insert email>\", \"Martin at <insert email>\"]\n",
    "for mentee_contact in mentees_contact:\n",
    "    print(\"Remember to say hello to {}, before your first 1:1.\".format(mentee_contact))"
   ]
  },
  {
   "cell_type": "code",
   "execution_count": 33,
   "metadata": {},
   "outputs": [
    {
     "name": "stdout",
     "output_type": "stream",
     "text": [
      "Present\n",
      "Present\n"
     ]
    }
   ],
   "source": [
    "#you don't have to display the content of the list\n",
    "#how many students showed up for all three sessions\n",
    "mentee_present = [\"anon_student_1\", \"anon_student_2\"]\n",
    "for mentee in mentee_present:\n",
    "    print(\"Present\")"
   ]
  },
  {
   "cell_type": "code",
   "execution_count": 34,
   "metadata": {},
   "outputs": [
    {
     "data": {
      "text/plain": [
       "True"
      ]
     },
     "execution_count": 34,
     "metadata": {},
     "output_type": "execute_result"
    }
   ],
   "source": [
    "\"Bootcamp\" in lauren_education"
   ]
  },
  {
   "cell_type": "code",
   "execution_count": 35,
   "metadata": {},
   "outputs": [
    {
     "data": {
      "text/plain": [
       "{'Bootcamp': 'Data Science Certificate',\n",
       " 'Columbia University': 'Quantitative Methods in the Social Sciences',\n",
       " 'Spelman College': 'Economics'}"
      ]
     },
     "execution_count": 35,
     "metadata": {},
     "output_type": "execute_result"
    }
   ],
   "source": [
    "del lauren_education[\"Atlanta Metropolitan College\"]\n",
    "lauren_education"
   ]
  },
  {
   "cell_type": "code",
   "execution_count": 36,
   "metadata": {},
   "outputs": [
    {
     "data": {
      "text/plain": [
       "['Economics',\n",
       " 'Data Science Certificate',\n",
       " 'Quantitative Methods in the Social Sciences']"
      ]
     },
     "execution_count": 36,
     "metadata": {},
     "output_type": "execute_result"
    }
   ],
   "source": [
    "concentration = list(lauren_education.values())\n",
    "concentration"
   ]
  },
  {
   "cell_type": "code",
   "execution_count": 37,
   "metadata": {
    "collapsed": true
   },
   "outputs": [],
   "source": [
    "#CodeWars Poem Formatting\n",
    "def format_poem(poem):\n",
    "   a = poem.split('.')\n",
    "   b = print('. \\n'.join(a))\n"
   ]
  },
  {
   "cell_type": "code",
   "execution_count": 38,
   "metadata": {
    "collapsed": true
   },
   "outputs": [],
   "source": [
    "#create function to print out high-level information about the candidate\n",
    "\n",
    "def prettify_education(dict_obj, linkedin):\n",
    "    how_many_education = 'Result: This candidate has {} degrees/certifications in their education dictionary.'\n",
    "    to_confirm = 'To confirm, visit this URL: {}'\n",
    "    num = len(dict_obj)\n",
    "    print(how_many_education.format(num))\n",
    "    print(to_confirm.format(linkedin))\n",
    "    "
   ]
  }
 ],
 "metadata": {
  "kernelspec": {
   "display_name": "Python 3",
   "language": "python",
   "name": "python3"
  },
  "language_info": {
   "codemirror_mode": {
    "name": "ipython",
    "version": 3
   },
   "file_extension": ".py",
   "mimetype": "text/x-python",
   "name": "python",
   "nbconvert_exporter": "python",
   "pygments_lexer": "ipython3",
   "version": "3.6.2"
  }
 },
 "nbformat": 4,
 "nbformat_minor": 2
}
